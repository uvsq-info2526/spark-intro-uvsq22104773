{
 "cells": [
  {
   "cell_type": "markdown",
   "metadata": {},
   "source": [
    "# Initialiser Spark"
   ]
  },
  {
   "cell_type": "code",
   "execution_count": 1,
   "metadata": {},
   "outputs": [
    {
     "name": "stderr",
     "output_type": "stream",
     "text": [
      "WARNING: Using incubator modules: jdk.incubator.vector\n",
      "Using Spark's default log4j profile: org/apache/spark/log4j2-defaults.properties\n",
      "Setting default log level to \"WARN\".\n",
      "To adjust logging level use sc.setLogLevel(newLevel). For SparkR, use setLogLevel(newLevel).\n",
      "25/10/21 18:48:43 WARN NativeCodeLoader: Unable to load native-hadoop library for your platform... using builtin-java classes where applicable\n"
     ]
    }
   ],
   "source": [
    "from pyspark import SparkContext, SparkConf\n",
    "conf = SparkConf().setAppName(\"Notebook\").setMaster(\"local\")\n",
    "sc = SparkContext(conf=conf)"
   ]
  },
  {
   "cell_type": "markdown",
   "metadata": {},
   "source": [
    "# Vérifier le contenu du fichier"
   ]
  },
  {
   "cell_type": "code",
   "execution_count": 2,
   "metadata": {},
   "outputs": [
    {
     "name": "stderr",
     "output_type": "stream",
     "text": [
      "                                                                                \r"
     ]
    },
    {
     "data": {
      "text/plain": [
       "['1;THOMAS;1976;07;6',\n",
       " '2;EMILIE;1929;67;28',\n",
       " '1;AIME;1944;11;3',\n",
       " '1;JANNICK;1950;60;3',\n",
       " '1;MARTIN;1963;13;3',\n",
       " '1;PAUL;1985;56;3',\n",
       " '1;ALAIN;1985;80;4',\n",
       " '1;ROGER;1960;37;9',\n",
       " '1;MARC;1953;81;20',\n",
       " '1;RYAN;2009;31;14']"
      ]
     },
     "execution_count": 2,
     "metadata": {},
     "output_type": "execute_result"
    }
   ],
   "source": [
    "prenoms = sc.textFile(\"prenoms.txt\")\n",
    "prenoms.takeSample(False, 10)"
   ]
  },
  {
   "cell_type": "markdown",
   "metadata": {},
   "source": [
    "# Extraire et sauvegarder un échantillon\n",
    "1. Expliquer ce que fait la ligne suivante"
   ]
  },
  {
   "cell_type": "code",
   "execution_count": 3,
   "metadata": {},
   "outputs": [
    {
     "name": "stderr",
     "output_type": "stream",
     "text": [
      "                                                                                \r"
     ]
    }
   ],
   "source": [
    "prenoms.filter(lambda l: l.startswith(\"sexe\") == False)\\\n",
    "    .filter(lambda l: \"XX\" not in l)\\\n",
    "    .sample(False, .001)\\\n",
    "    .saveAsTextFile(\"prenoms_sample.txt\")"
   ]
  },
  {
   "cell_type": "markdown",
   "metadata": {},
   "source": [
    "Cela retire les lignes avec des données manquante marqué par des XX."
   ]
  },
  {
   "cell_type": "markdown",
   "metadata": {},
   "source": [
    "# Vérifier l'échantillon"
   ]
  },
  {
   "cell_type": "code",
   "execution_count": 4,
   "metadata": {},
   "outputs": [
    {
     "name": "stdout",
     "output_type": "stream",
     "text": [
      "3917\n",
      "0\n",
      "0\n"
     ]
    }
   ],
   "source": [
    "echantillon = sc.textFile(\"prenoms_sample.txt\")\n",
    "print(echantillon.count())\n",
    "print(echantillon.filter(lambda l: l.startswith(\"sexe\")).count())\n",
    "print(echantillon.filter(lambda l: \"XX\" in l).count())"
   ]
  }
 ],
 "metadata": {
  "kernelspec": {
   "display_name": "sparkenv (3.9.5)",
   "language": "python",
   "name": "python3"
  },
  "language_info": {
   "codemirror_mode": {
    "name": "ipython",
    "version": 3
   },
   "file_extension": ".py",
   "mimetype": "text/x-python",
   "name": "python",
   "nbconvert_exporter": "python",
   "pygments_lexer": "ipython3",
   "version": "3.9.5"
  }
 },
 "nbformat": 4,
 "nbformat_minor": 2
}
